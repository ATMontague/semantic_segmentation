{
 "cells": [
  {
   "cell_type": "code",
   "execution_count": null,
   "metadata": {
    "collapsed": true
   },
   "outputs": [],
   "source": [
    "!pip install numpy\n",
    "!pip install scipy\n",
    "!pip install pytorch\n",
    "!pip install torchvision\n",
    "!pip install pyyaml\n",
    "!pip install mlflow\n",
    "!pip install torchmetrics\n",
    "!pip install albumentations==0.4.6\n",
    "!pip install tqdm\n",
    "!pip install opencv-contrib-python==4.0.0.21\n",
    "!pip install matplotlib"
   ]
  },
  {
   "cell_type": "code",
   "execution_count": null,
   "outputs": [],
   "source": [
    "from google.colab import drive\n",
    "drive.mount('/content/drive', force_remount=True)\n"
   ],
   "metadata": {
    "collapsed": false,
    "pycharm": {
     "name": "#%%\n"
    }
   }
  },
  {
   "cell_type": "code",
   "execution_count": null,
   "outputs": [],
   "source": [
    "# import necesary libaries\n",
    "import torch\n",
    "from torch import nn\n",
    "from torch.optim import Adam, SGD\n",
    "import numpy as np\n",
    "import albumentations as A\n",
    "from albumentations.pytorch import ToTensorV2\n",
    "\n",
    "device = torch.device(\"cuda\" if torch.cuda.is_available() else \"cpu\")\n",
    "print(device)"
   ],
   "metadata": {
    "collapsed": false,
    "pycharm": {
     "name": "#%%\n"
    }
   }
  },
  {
   "cell_type": "code",
   "execution_count": null,
   "outputs": [],
   "source": [
    "horizontal_flip = A.Compose(\n",
    "    [\n",
    "        A.Resize(height, width),\n",
    "        A.HorizontalFlip(p=0.5),\n",
    "        A.Normalize(mean=(0.485, 0.456, 0.406), std=(0.229, 0.224, 0.225)),\n",
    "        ToTensorV2()\n",
    "    ]\n",
    ")\n",
    "\n",
    "vertical_flip = A.Compose(\n",
    "    [\n",
    "        A.Resize(height, width),\n",
    "        A.VerticalFlip(p=0.5),\n",
    "        A.Normalize(mean=(0.485, 0.456, 0.406), std=(0.229, 0.224, 0.225)),\n",
    "        ToTensorV2()\n",
    "    ]\n",
    ")\n",
    "\n",
    "combined_flip = A.Compose(\n",
    "    [\n",
    "        A.Resize(height, width),\n",
    "        A.HorizontalFlip(p=0.5),\n",
    "        A.VerticalFlip(p=0.5),\n",
    "        A.Normalize(mean=(0.485, 0.456, 0.406), std=(0.229, 0.224, 0.225)),\n",
    "        ToTensorV2()\n",
    "    ]\n",
    ")\n",
    "\n",
    "rotation = A.Compose(\n",
    "    [\n",
    "        A.Resize(height, width),\n",
    "        A.IAAAffine(rotate=(-360, 360)),\n",
    "        A.Normalize(mean=(0.485, 0.456, 0.406), std=(0.229, 0.224, 0.225)),\n",
    "        ToTensorV2()\n",
    "    ]\n",
    ")\n",
    "\n",
    "translation = A.Compose(\n",
    "    [\n",
    "        A.Resize(height, width),\n",
    "        A.IAAAffine(translate_px=(0, 100), mode='constant', cval=0),\n",
    "        A.Normalize(mean=(0.485, 0.456, 0.406), std=(0.229, 0.224, 0.225)),\n",
    "        ToTensorV2()\n",
    "    ]\n",
    ")\n",
    "\n",
    "single_transform_scale = A.Compose(\n",
    "    [\n",
    "        A.Resize(height, width),\n",
    "        A.IAAAffine(scale=(0.8, 1.2), mode='constant', cval=0),\n",
    "        A.Normalize(mean=(0.485, 0.456, 0.406), std=(0.229, 0.224, 0.225)),\n",
    "        ToTensorV2()\n",
    "    ]\n",
    ")\n",
    "\n",
    "drop = A.Compose(\n",
    "    [\n",
    "        A.Resize(height, width),\n",
    "        A.CoarseDropout(max_holes=25, max_height=15, max_width=15, min_holes=1, min_height=5, min_width=5, p=0.5),\n",
    "        A.Normalize(mean=(0.485, 0.456, 0.406), std=(0.229, 0.224, 0.225)),\n",
    "        ToTensorV2()\n",
    "    ]\n",
    ")\n",
    "\n",
    "validation_transform = A.Compose(\n",
    "    [\n",
    "        A.Resize(height, width),\n",
    "        A.Normalize(mean=(0.485, 0.456, 0.406), std=(0.229, 0.224, 0.225)),\n",
    "        ToTensorV2()\n",
    "    ]\n",
    ")\n"
   ],
   "metadata": {
    "collapsed": false,
    "pycharm": {
     "name": "#%%\n"
    }
   }
  }
 ],
 "metadata": {
  "kernelspec": {
   "display_name": "Python 3",
   "language": "python",
   "name": "python3"
  },
  "language_info": {
   "codemirror_mode": {
    "name": "ipython",
    "version": 2
   },
   "file_extension": ".py",
   "mimetype": "text/x-python",
   "name": "python",
   "nbconvert_exporter": "python",
   "pygments_lexer": "ipython2",
   "version": "2.7.6"
  }
 },
 "nbformat": 4,
 "nbformat_minor": 0
}